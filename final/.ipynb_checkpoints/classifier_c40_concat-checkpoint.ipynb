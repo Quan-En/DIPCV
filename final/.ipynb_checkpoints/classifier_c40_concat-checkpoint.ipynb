{
 "cells": [
  {
   "cell_type": "markdown",
   "metadata": {},
   "source": [
    "# 1. Packages"
   ]
  },
  {
   "cell_type": "code",
   "execution_count": 2,
   "metadata": {},
   "outputs": [],
   "source": [
    "import numpy as np\n",
    "from numpy import array, zeros\n",
    "import pandas as pd\n",
    "\n",
    "from scipy.fftpack import dct, idct\n",
    "\n",
    "import cv2\n",
    "import matplotlib.pyplot as plt\n",
    "\n",
    "import os\n",
    "from tqdm.notebook import tqdm\n",
    "\n",
    "from BATCH_DCT_DETECT import DCT_DETECT\n",
    "# from utils import GetFeature, GetPathList, GetPlotDF, GetBalanceTrainArr"
   ]
  },
  {
   "cell_type": "code",
   "execution_count": 3,
   "metadata": {},
   "outputs": [],
   "source": [
    "my_dct_detect = DCT_DETECT()"
   ]
  },
  {
   "cell_type": "markdown",
   "metadata": {},
   "source": [
    "# 2. Image features"
   ]
  },
  {
   "cell_type": "markdown",
   "metadata": {},
   "source": [
    "## 2.1. Generate features"
   ]
  },
  {
   "cell_type": "code",
   "execution_count": 3,
   "metadata": {},
   "outputs": [],
   "source": [
    "# train_data_path = \"/home/re6091054/FF++/c40/train\""
   ]
  },
  {
   "cell_type": "code",
   "execution_count": 4,
   "metadata": {},
   "outputs": [],
   "source": [
    "# with open(\"ff_train_raw.txt\", \"r\") as f:\n",
    "#     text = f.read()\n",
    "# text = [sub_text.split(\" \") for sub_text in text.split(\"\\n\")][:-1]"
   ]
  },
  {
   "cell_type": "code",
   "execution_count": 5,
   "metadata": {},
   "outputs": [],
   "source": [
    "# Deepfakes_folder = [train_data_path + \"/\" + folder_name for folder_name, y in text][(180*0)+(720*0):(180*1)+(720*0)]\n",
    "# Face2Face_folder = [train_data_path + \"/\" + folder_name for folder_name, y in text][(180*1)+(720*1):(180*2)+(720*1)]\n",
    "# FaceSwap_folder = [train_data_path + \"/\" + folder_name for folder_name, y in text][(180*2)+(720*2):(180*3)+(720*2)]\n",
    "# NeuralTextures_folder = [train_data_path + \"/\" + folder_name for folder_name, y in text][(180*3)+(720*3):(180*4)+(720*3)]\n",
    "# Real_folder = [train_data_path + \"/\" + folder_name for folder_name, y in text][(720*4):]"
   ]
  },
  {
   "cell_type": "code",
   "execution_count": 6,
   "metadata": {},
   "outputs": [],
   "source": [
    "# folder_list = [Deepfakes_folder, Face2Face_folder, FaceSwap_folder,  NeuralTextures_folder, Real_folder]"
   ]
  },
  {
   "cell_type": "code",
   "execution_count": 7,
   "metadata": {},
   "outputs": [],
   "source": [
    "# features_list = []"
   ]
  },
  {
   "cell_type": "code",
   "execution_count": 8,
   "metadata": {},
   "outputs": [],
   "source": [
    "# for folder_type in tqdm(folder_list):\n",
    "#     images_list = []\n",
    "#     for folder_path in folder_type:\n",
    "#         images_list.append(cv2.imread(folder_path + \"/0.png\"))\n",
    "#     features_list.append(my_dct_detect.main(images_list))"
   ]
  },
  {
   "cell_type": "code",
   "execution_count": 9,
   "metadata": {},
   "outputs": [],
   "source": [
    "# features_arr = np.row_stack(features_list)\n",
    "\n",
    "# response_arr = np.array(\n",
    "#     [1] * 720 + \n",
    "#     [0] * 720\n",
    "# )\n",
    "\n",
    "# image_type_arr = np.array(\n",
    "#     [\"Deepfakes\"] * 180 + \n",
    "#     [\"Face2Face\"] * 180 + \n",
    "#     [\"FaceSwap\"] * 180 + \n",
    "#     [\"NeuralTextures\"] * 180 + \n",
    "#     [\"Real\"] * 720\n",
    "# )"
   ]
  },
  {
   "cell_type": "code",
   "execution_count": 10,
   "metadata": {},
   "outputs": [],
   "source": [
    "# np.save(\"data/features_arr.npy\", features_arr)\n",
    "# np.save(\"data/response_arr.npy\", response_arr)\n",
    "# np.save(\"data/image_type_arr.npy\", image_type_arr)"
   ]
  },
  {
   "cell_type": "markdown",
   "metadata": {},
   "source": [
    "## 2.2. Load features"
   ]
  },
  {
   "cell_type": "code",
   "execution_count": 4,
   "metadata": {},
   "outputs": [],
   "source": [
    "features_arr = np.load(\"data/features_arr.npy\")\n",
    "response_arr = np.load(\"data/response_arr.npy\")\n",
    "image_type_arr = np.load(\"data/image_type_arr.npy\")"
   ]
  },
  {
   "cell_type": "code",
   "execution_count": 14,
   "metadata": {},
   "outputs": [],
   "source": [
    "conv_features_arr = np.load(\"/home/re6091054/影像處理與電腦視覺/fianl_compression/data/train_features_Conv_trace_arr.npy\")\n",
    "conv_response_arr = np.load(\"/home/re6091054/影像處理與電腦視覺/fianl_compression/data/train_response_arr.npy\")\n",
    "conv_image_type_arr = np.load(\"/home/re6091054/影像處理與電腦視覺/fianl_compression/data/train_image_type_arr.npy\")"
   ]
  },
  {
   "cell_type": "code",
   "execution_count": 18,
   "metadata": {},
   "outputs": [],
   "source": [
    "cat_features_arr = np.column_stack([features_arr, conv_features_arr])"
   ]
  },
  {
   "cell_type": "code",
   "execution_count": 19,
   "metadata": {},
   "outputs": [
    {
     "data": {
      "text/plain": [
       "(1440, 87)"
      ]
     },
     "execution_count": 19,
     "metadata": {},
     "output_type": "execute_result"
    }
   ],
   "source": [
    "cat_features_arr.shape"
   ]
  },
  {
   "cell_type": "markdown",
   "metadata": {},
   "source": [
    "# 5. Classifier"
   ]
  },
  {
   "cell_type": "code",
   "execution_count": 44,
   "metadata": {},
   "outputs": [],
   "source": [
    "from sklearn.linear_model import LogisticRegression\n",
    "import xgboost as xgb\n",
    "from xgboost import XGBClassifier\n",
    "\n",
    "from sklearn.metrics import accuracy_score, confusion_matrix, roc_curve, auc, f1_score"
   ]
  },
  {
   "cell_type": "code",
   "execution_count": null,
   "metadata": {},
   "outputs": [],
   "source": []
  },
  {
   "cell_type": "markdown",
   "metadata": {},
   "source": [
    "## 5.1. Logistic regression"
   ]
  },
  {
   "cell_type": "code",
   "execution_count": 42,
   "metadata": {},
   "outputs": [
    {
     "data": {
      "text/plain": [
       "LogisticRegression(max_iter=2000)"
      ]
     },
     "execution_count": 42,
     "metadata": {},
     "output_type": "execute_result"
    }
   ],
   "source": [
    "l_reg = LogisticRegression(penalty='l2', max_iter=2000)\n",
    "l_reg.fit(cat_features_arr, response_arr)"
   ]
  },
  {
   "cell_type": "code",
   "execution_count": 24,
   "metadata": {},
   "outputs": [
    {
     "data": {
      "image/png": "[encoded data removed]",
      "text/plain": [
       "<Figure size 864x432 with 1 Axes>"
      ]
     },
     "metadata": {
      "needs_background": "light"
     },
     "output_type": "display_data"
    }
   ],
   "source": [
    "fig, ax = plt.subplots(figsize=(12,6))\n",
    "\n",
    "ax.bar(list(range(87)), l_reg.coef_.reshape(-1))\n",
    "ax.set_ylabel(\"Magnitude\")\n",
    "ax.set_title(\"Coefficient magnitude\")\n",
    "plt.show()"
   ]
  },
  {
   "cell_type": "markdown",
   "metadata": {},
   "source": [
    "## 5.3. Xgboost"
   ]
  },
  {
   "cell_type": "markdown",
   "metadata": {},
   "source": [
    "### 5.3.1. Data"
   ]
  },
  {
   "cell_type": "code",
   "execution_count": 25,
   "metadata": {},
   "outputs": [],
   "source": [
    "xg_train = xgb.DMatrix(cat_features_arr, response_arr)"
   ]
  },
  {
   "cell_type": "markdown",
   "metadata": {},
   "source": [
    "### 5.3.2. Model"
   ]
  },
  {
   "cell_type": "code",
   "execution_count": 26,
   "metadata": {},
   "outputs": [],
   "source": [
    "params = {'objective':'binary:logistic', 'eval_metric':'logloss'}\n",
    "xgb_model = xgb.train(params, xg_train, verbose_eval=True) # , 30, xgb_model=None"
   ]
  },
  {
   "cell_type": "code",
   "execution_count": 27,
   "metadata": {},
   "outputs": [
    {
     "name": "stdout",
     "output_type": "stream",
     "text": [
      "Train AUC 0.9877 \n",
      "\n"
     ]
    }
   ],
   "source": [
    "fpr, tpr, thresholds = roc_curve(response_arr, xgb_model.predict(xg_train), pos_label=1)\n",
    "print(\"Train AUC\", round(auc(fpr, tpr), 4), \"\\n\")"
   ]
  },
  {
   "cell_type": "code",
   "execution_count": 28,
   "metadata": {},
   "outputs": [],
   "source": [
    "# weight_ratio = float(len(train_y_001_array[train_y_001_array == 0])) / float(len(train_y_001_array[train_y_001_array == 1]))\n",
    "# w_array = np.array([weight_ratio] * train_y_001_array.shape[0])\n",
    "# w_array[train_y_001_array == 0] = 1- weight_ratio\n",
    "\n",
    "# xgb_model.fit(X=train_x_001_array, y=train_y_001_array.astype(int), sample_weight=w_array)"
   ]
  },
  {
   "cell_type": "code",
   "execution_count": 29,
   "metadata": {},
   "outputs": [],
   "source": [
    "# print(\"Testing ACC: \", round(accuracy_score(train_y_1, xgb_model.predict(train_x_1)), 4))\n",
    "# print(\"Testing Confusion matrix: \\n\", confusion_matrix(train_y_1, xgb_model.predict(train_x_1)))"
   ]
  },
  {
   "cell_type": "markdown",
   "metadata": {},
   "source": [
    "# 6. Test"
   ]
  },
  {
   "cell_type": "code",
   "execution_count": 30,
   "metadata": {},
   "outputs": [],
   "source": [
    "test_data_path = '/home/re6091054/FF++/c40/test'"
   ]
  },
  {
   "cell_type": "code",
   "execution_count": 31,
   "metadata": {},
   "outputs": [],
   "source": [
    "image_types = sorted(os.listdir(test_data_path))"
   ]
  },
  {
   "cell_type": "code",
   "execution_count": 32,
   "metadata": {},
   "outputs": [],
   "source": [
    "# test_features_list = []"
   ]
  },
  {
   "cell_type": "code",
   "execution_count": 33,
   "metadata": {},
   "outputs": [],
   "source": [
    "# for img_typ in tqdm(image_types):\n",
    "#     type_name = test_data_path + \"/\" + img_typ\n",
    "#     folders_list = os.listdir(type_name)\n",
    "#     imags_list = []\n",
    "#     for folder in folders_list:\n",
    "#         folder_name = type_name + \"/\" + folder\n",
    "#         imags_list.append(cv2.imread(folder_name + \"/0.png\"))\n",
    "#     test_features_list.append(my_dct_detect.main(imags_list))"
   ]
  },
  {
   "cell_type": "code",
   "execution_count": 34,
   "metadata": {},
   "outputs": [],
   "source": [
    "# list(map(lambda x: x.shape, test_features_list))"
   ]
  },
  {
   "cell_type": "code",
   "execution_count": 35,
   "metadata": {},
   "outputs": [],
   "source": [
    "# test_features_arr = np.row_stack(test_features_list)\n",
    "# test_response_arr = np.array(\n",
    "#     [1] * 140 * 4 +\n",
    "#     [0] * 140\n",
    "# )\n",
    "# test_image_type_arr = np.array(\n",
    "#     [\"Deepfakes\"] * 140 + \n",
    "#     [\"Face2Face\"] * 140 + \n",
    "#     [\"FaceSwap\"] * 140 + \n",
    "#     [\"NeuralTextures\"] * 140 + \n",
    "#     [\"Real\"] * 140\n",
    "# )"
   ]
  },
  {
   "cell_type": "code",
   "execution_count": 36,
   "metadata": {},
   "outputs": [],
   "source": [
    "# np.save(\"data/test_features_arr.npy\", test_features_arr)\n",
    "# np.save(\"data/test_response_arr.npy\", test_response_arr)\n",
    "# np.save(\"data/test_image_type_arr.npy\", test_image_type_arr)"
   ]
  },
  {
   "cell_type": "code",
   "execution_count": 37,
   "metadata": {},
   "outputs": [],
   "source": [
    "test_features_arr = np.load(\"data/test_features_arr.npy\")\n",
    "test_response_arr = np.load(\"data/test_response_arr.npy\")\n",
    "test_image_type_arr = np.load(\"data/test_image_type_arr.npy\")\n",
    "test_conv_features_arr = np.load(\"/home/re6091054/影像處理與電腦視覺/fianl_compression/data/test_features_conv_trace_arr.npy\")"
   ]
  },
  {
   "cell_type": "code",
   "execution_count": 38,
   "metadata": {},
   "outputs": [],
   "source": [
    "test_cat_features_arr = np.column_stack([test_features_arr, test_conv_features_arr])"
   ]
  },
  {
   "cell_type": "code",
   "execution_count": 45,
   "metadata": {},
   "outputs": [
    {
     "name": "stdout",
     "output_type": "stream",
     "text": [
      "Testing ACC:  0.5557 \n",
      "\n",
      "Testing confusion matrix: \n",
      " [[ 76 247]\n",
      " [ 64 313]] \n",
      "\n",
      "Testing AUC 0.5632 \n",
      "\n",
      "F1:  0.49819169215662323\n"
     ]
    }
   ],
   "source": [
    "print(\"Testing ACC: \", round(accuracy_score(l_reg.predict(test_cat_features_arr), test_response_arr), 4), \"\\n\")\n",
    "print(\"Testing confusion matrix: \\n\", confusion_matrix(l_reg.predict(test_cat_features_arr), test_response_arr), \"\\n\")\n",
    "\n",
    "fpr, tpr, thresholds = roc_curve(test_response_arr, l_reg.predict_proba(test_cat_features_arr)[:,1], pos_label=1)\n",
    "print(\"Testing AUC\", round(auc(fpr, tpr), 4), \"\\n\")\n",
    "\n",
    "print(\"F1: \", f1_score(test_response_arr, l_reg.predict(test_cat_features_arr), average='macro'))"
   ]
  },
  {
   "cell_type": "code",
   "execution_count": null,
   "metadata": {},
   "outputs": [],
   "source": []
  },
  {
   "cell_type": "code",
   "execution_count": 39,
   "metadata": {},
   "outputs": [],
   "source": [
    "xg_test = xgb.DMatrix(test_cat_features_arr, test_response_arr)"
   ]
  },
  {
   "cell_type": "code",
   "execution_count": 40,
   "metadata": {},
   "outputs": [],
   "source": [
    "test_pred_prob = xgb_model.predict(xg_test)\n",
    "test_pred = np.round(test_pred_prob)"
   ]
  },
  {
   "cell_type": "code",
   "execution_count": 46,
   "metadata": {},
   "outputs": [
    {
     "name": "stdout",
     "output_type": "stream",
     "text": [
      "Testing ACC:  0.5429 \n",
      "\n",
      "Testing confusion matrix: \n",
      " [[ 62 242]\n",
      " [ 78 318]] \n",
      "\n",
      "Testing AUC 0.5166 \n",
      "\n",
      "F1:  0.472275622903238\n"
     ]
    }
   ],
   "source": [
    "print(\"Testing ACC: \", round(accuracy_score(test_pred, test_response_arr), 4), \"\\n\")\n",
    "print(\"Testing confusion matrix: \\n\", confusion_matrix(test_pred, test_response_arr), \"\\n\")\n",
    "\n",
    "fpr, tpr, thresholds = roc_curve(test_response_arr, test_pred_prob, pos_label=1)\n",
    "print(\"Testing AUC\", round(auc(fpr, tpr), 4), \"\\n\")\n",
    "\n",
    "print(\"F1: \", f1_score(test_response_arr, test_pred, average='macro'))"
   ]
  }
 ],
 "metadata": {
  "interpreter": {
   "hash": "f60de7e7255f4ab527b986eaf60aa68ccde8f505bf7ee0c2840f8bd30402111f"
  },
  "kernelspec": {
   "display_name": "Python 3",
   "language": "python",
   "name": "python3"
  },
  "language_info": {
   "codemirror_mode": {
    "name": "ipython",
    "version": 3
   },
   "file_extension": ".py",
   "mimetype": "text/x-python",
   "name": "python",
   "nbconvert_exporter": "python",
   "pygments_lexer": "ipython3",
   "version": "3.6.9"
  }
 },
 "nbformat": 4,
 "nbformat_minor": 2
}
