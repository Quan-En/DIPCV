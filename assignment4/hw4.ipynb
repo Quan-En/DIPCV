{
 "cells": [
  {
   "cell_type": "code",
   "execution_count": 1,
   "metadata": {},
   "outputs": [],
   "source": [
    "import numpy as np\n",
    "from numpy import array"
   ]
  },
  {
   "cell_type": "code",
   "execution_count": 26,
   "metadata": {},
   "outputs": [],
   "source": [
    "from PIL import Image"
   ]
  },
  {
   "cell_type": "code",
   "execution_count": 29,
   "metadata": {},
   "outputs": [],
   "source": [
    "im = Image.open('standard_test_images/lena_color_256.tif') \n",
    "imarray = array(im) "
   ]
  },
  {
   "cell_type": "code",
   "execution_count": 31,
   "metadata": {},
   "outputs": [
    {
     "data": {
      "text/plain": [
       "(256, 256, 3)"
      ]
     },
     "execution_count": 31,
     "metadata": {},
     "output_type": "execute_result"
    }
   ],
   "source": [
    "imarray.shape"
   ]
  },
  {
   "cell_type": "code",
   "execution_count": 44,
   "metadata": {},
   "outputs": [],
   "source": [
    "def rgb_to_ycc(image):\n",
    "    image = image.astype(float)\n",
    "    ycc_trans_matrix = array(\n",
    "        [\n",
    "            [ 0.299000,  0.587000,  0.114000],\n",
    "            [-0.168736, -0.331264,  0.500002],\n",
    "            [ 0.500000, -0.418688, -0.081312]\n",
    "        ]\n",
    "    )\n",
    "    return np.einsum('ijk,nk->ijn', image, ycc_trans_matrix) + array([0, 128, 128])"
   ]
  }
 ],
 "metadata": {
  "interpreter": {
   "hash": "f60de7e7255f4ab527b986eaf60aa68ccde8f505bf7ee0c2840f8bd30402111f"
  },
  "kernelspec": {
   "display_name": "Python 3.8.5 32-bit",
   "language": "python",
   "name": "python3"
  },
  "language_info": {
   "codemirror_mode": {
    "name": "ipython",
    "version": 3
   },
   "file_extension": ".py",
   "mimetype": "text/x-python",
   "name": "python",
   "nbconvert_exporter": "python",
   "pygments_lexer": "ipython3",
   "version": "3.8.5"
  },
  "orig_nbformat": 4
 },
 "nbformat": 4,
 "nbformat_minor": 2
}
